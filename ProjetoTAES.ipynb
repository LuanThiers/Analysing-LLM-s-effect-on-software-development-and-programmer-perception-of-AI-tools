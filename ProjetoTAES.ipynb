{
  "nbformat": 4,
  "nbformat_minor": 0,
  "metadata": {
    "colab": {
      "provenance": []
    },
    "kernelspec": {
      "name": "python3",
      "display_name": "Python 3"
    },
    "language_info": {
      "name": "python"
    }
  },
  "cells": [
    {
      "cell_type": "code",
      "source": [
        "!pip install --quiet langchain langchain-google-genai grandalf\n",
        "!pip install -qU langchain-deepseek\n",
        "!pip install --quiet langchain_community"
      ],
      "metadata": {
        "id": "bD67_su1IUdO"
      },
      "execution_count": 20,
      "outputs": []
    },
    {
      "cell_type": "code",
      "source": [
        "from langchain.prompts import PromptTemplate, ChatPromptTemplate\n",
        "from langchain.chains import LLMChain\n",
        "from langchain.globals import set_verbose\n",
        "set_verbose(True)\n",
        "from langchain_core.output_parsers import StrOutputParser, JsonOutputParser\n",
        "from langchain_core.runnables import RunnablePassthrough\n",
        "\n",
        "import os\n",
        "from google.colab import drive\n",
        "import google.generativeai as genai\n",
        "\n",
        "from langchain_deepseek import ChatDeepSeek\n",
        "from langchain_google_genai import ChatGoogleGenerativeAI\n",
        "import json\n",
        "import re\n",
        "import pandas as pd\n",
        "import matplotlib.pyplot as plt"
      ],
      "metadata": {
        "id": "TBZDQzA2IO0g"
      },
      "execution_count": 59,
      "outputs": []
    },
    {
      "cell_type": "code",
      "source": [
        "from google.colab import drive\n",
        "drive.mount('/content/drive')"
      ],
      "metadata": {
        "colab": {
          "base_uri": "https://localhost:8080/"
        },
        "id": "kHVCtsJo_mM3",
        "outputId": "7e6fc09c-cb01-4585-b318-cb9a1b901506"
      },
      "execution_count": 22,
      "outputs": [
        {
          "output_type": "stream",
          "name": "stdout",
          "text": [
            "Drive already mounted at /content/drive; to attempt to forcibly remount, call drive.mount(\"/content/drive\", force_remount=True).\n"
          ]
        }
      ]
    },
    {
      "cell_type": "markdown",
      "source": [
        "String, Sorting, Matrix"
      ],
      "metadata": {
        "id": "g515d31EHAy4"
      }
    },
    {
      "cell_type": "code",
      "execution_count": 23,
      "metadata": {
        "colab": {
          "base_uri": "https://localhost:8080/"
        },
        "id": "9YSqOy8vCZFG",
        "outputId": "e0a5e392-2f01-46c1-baf8-cbb6268259c1"
      },
      "outputs": [
        {
          "output_type": "stream",
          "name": "stdout",
          "text": [
            "Mounted at /content/drive\n"
          ]
        }
      ],
      "source": [
        "# Monta o diretório do drive para acessar os arquivos\n",
        "drive.mount(\"/content/drive\", force_remount=True)\n",
        "\n",
        "# Lê a chave de API do arquivo JSON\n",
        "with open('/content/drive/MyDrive/DeepSeekAPI/key_api_llm.json') as config_file:\n",
        "    config = json.load(config_file)\n",
        "    api_key = config['gemini_flash']\n",
        "\n",
        "os.environ['GOOGLE_API_KEY'] = f\"{api_key}\"\n",
        "llm = ChatGoogleGenerativeAI(\n",
        "    model=\"gemini-1.5-flash\",\n",
        "    api_key=os.environ[\"GOOGLE_API_KEY\"]\n",
        "  )"
      ]
    },
    {
      "cell_type": "markdown",
      "source": [
        "#Prompts"
      ],
      "metadata": {
        "id": "mBdkfjCmfHI4"
      }
    },
    {
      "cell_type": "code",
      "source": [
        "template_requisicao = '''\n",
        "You are an expert in solving computational algorithm problems using the Python programming language.\n",
        "Consider that you are going to solve a problem from the LeetCode platform that involves computational algorithms.\n",
        "\n",
        "Follow these guidelines:\n",
        "  Try to solve the problem in the best possible way.\n",
        "  Think step by step about how to approach this problem.\n",
        "  Consider that you'll get the inputs and you need to return the answer according to the problem!!!!\n",
        "  Consider that your function needs to be inside the class \"Solution(object)\"\n",
        "ATTENTION: The final answer with the code to solve the problem must be separated from the rest and needs to be at text end.\n",
        "\n",
        "See an example of solving a problem:\n",
        "<EXAMPLE>\n",
        "\n",
        "<PROBLEM>\n",
        "Given a non-empty array of integers nums, every element appears twice except for one. Find that single one.\n",
        "\n",
        "You must implement a solution with a linear runtime complexity and use only constant extra space.\n",
        "\n",
        "Example 1:\n",
        "\n",
        "Input: nums = [2,2,1]\n",
        "\n",
        "Output: 1\n",
        "\n",
        "Example 2:\n",
        "\n",
        "Input: nums = [4,1,2,1,2]\n",
        "\n",
        "Output: 4\n",
        "\n",
        "Example 3:\n",
        "\n",
        "Input: nums = [1]\n",
        "\n",
        "Output: 1\n",
        "\n",
        "\n",
        "\n",
        "Constraints:\n",
        "\n",
        "1 <= nums.length <= 3 * 104\n",
        "-3 * 104 <= nums[i] <= 3 * 104\n",
        "Each element in the array appears twice except for one element which appears only once.\n",
        "\n",
        "</PROBLEM>\n",
        "\n",
        "\n",
        "<ANSWER>\n",
        "The problem asks to find the single unique element in an array where all other elements appear twice.  The constraints specify linear time and constant space complexity. This strongly suggests using bit manipulation, specifically the XOR operator.\n",
        "\n",
        "The XOR operator has the following properties relevant to this problem:\n",
        "\n",
        "* `x ^ x == 0`  (XORing a number with itself results in 0)\n",
        "* `x ^ 0 == x` (XORing a number with 0 results in the number itself)\n",
        "* `x ^ y ^ x == y` (XOR is associative and commutative)\n",
        "\n",
        "Therefore, if we XOR all the numbers in the array, the numbers that appear twice will cancel each other out (because `x ^ x == 0`), leaving only the unique number.\n",
        "\n",
        "Let's outline the algorithm:\n",
        "\n",
        "1. Initialize a variable `result` to 0.\n",
        "2. Iterate through the input array `nums`.\n",
        "3. For each number `num` in `nums`, perform `result ^= num`.\n",
        "4. After the loop, `result` will contain the unique number.\n",
        "5. Return `result`.\n",
        "\n",
        "\n",
        "This approach guarantees linear time complexity (O(n) where n is the length of `nums`) because we iterate through the array once.  It also uses constant extra space (O(1)) because we only use a single integer variable `result`.\n",
        "\n",
        "Error Handling:  The problem statement guarantees a non-empty array and that only one element appears once.  However, robust code should handle edge cases, although it's not strictly required here.  We'll include a check for an empty input array for completeness.\n",
        "\n",
        "\n",
        "```python\n",
        "class Solution(object):\n",
        "    def singleNumber(self, nums):\n",
        "        \"\"\"\n",
        "        :type nums: List[int]\n",
        "        :rtype: int\n",
        "        \"\"\"\n",
        "        if not nums:  # Handle empty input\n",
        "            return None  # or raise an exception depending on requirements\n",
        "\n",
        "        result = 0\n",
        "        for num in nums:\n",
        "            result ^= num\n",
        "        return result\n",
        "\n",
        "```\n",
        "\n",
        "**Final Answer with Code:**\n",
        "\n",
        "```python\n",
        "class Solution(object):\n",
        "    def singleNumber(self, nums):\n",
        "        \"\"\"\n",
        "        :type nums: List[int]\n",
        "        :rtype: int\n",
        "        \"\"\"\n",
        "        if not nums:  # Handle empty input\n",
        "            return None  # or raise an exception depending on requirements\n",
        "\n",
        "        result = 0\n",
        "        for num in nums:\n",
        "            result ^= num\n",
        "        return result\n",
        "```\n",
        "</ANSWER>\n",
        "</EXAMPLE>\n",
        "\n",
        "Now it's tour turn! Solve the following problem:\n",
        "{problem}\n",
        "'''"
      ],
      "metadata": {
        "id": "iDj498pCNgsR"
      },
      "execution_count": 24,
      "outputs": []
    },
    {
      "cell_type": "code",
      "source": [
        "template_erro = '''\n",
        "You are an expert in solving computational algorithm problems using the Python programming language.\n",
        "Consider that you are going to solve a problem from the LeetCode platform that involves computational algorithms.\n",
        "\n",
        "Follow these guidelines:\n",
        "  Try to solve the problem in the best possible way.\n",
        "  Think step by step about how to approach this problem.\n",
        "  Consider that you'll get the inputs and you need to return the answer according to the problem!!!!\n",
        "  Consider that your function needs to be inside the class \"Solution(object)\"\n",
        "\n",
        "Solve the following problem:\n",
        "{problem}\n",
        "\n",
        "You have this initial code to solve the problem but it didn't pass in all test cases for this problem.\n",
        "\n",
        "{code}\n",
        "\n",
        "This code had the following error:\n",
        "\n",
        "{error}\n",
        "\n",
        "Try to fix it so that the code passes through all test cases.\n",
        "\n",
        "ATTENTION: The final answer with the code to solve the problem must be separated from the rest in ```python``` format.\n",
        "\n",
        "'''"
      ],
      "metadata": {
        "id": "MyMMxal_nbGd"
      },
      "execution_count": 25,
      "outputs": []
    },
    {
      "cell_type": "code",
      "source": [
        "prompt_requisicao = PromptTemplate(\n",
        "  input_variables = ['problem'],\n",
        "  template = template_requisicao\n",
        ")"
      ],
      "metadata": {
        "id": "fVlhQX78pR6J"
      },
      "execution_count": 26,
      "outputs": []
    },
    {
      "cell_type": "code",
      "source": [
        "prompt_erro = PromptTemplate(\n",
        "  input_variables = ['problem', 'code', 'error'],\n",
        "  template = template_erro\n",
        ")"
      ],
      "metadata": {
        "id": "-Z6l_X2FpcOh"
      },
      "execution_count": 27,
      "outputs": []
    },
    {
      "cell_type": "markdown",
      "source": [
        "#Functions"
      ],
      "metadata": {
        "id": "1TYVyceWuR8f"
      }
    },
    {
      "cell_type": "code",
      "source": [
        "def get_code(problema: str, max_iterations: int):\n",
        "  all_answers = []\n",
        "  all_codes = []\n",
        "\n",
        "  # LLM chain in LangChain\n",
        "  initial_chain = RunnablePassthrough() | prompt_requisicao | llm | StrOutputParser()\n",
        "  answer = initial_chain.invoke({\"problem\": problema})\n",
        "\n",
        "\n",
        "  all_answers.append(answer)\n",
        "  code_answer = encontrar_ultimo_codigo_python(answer)\n",
        "  all_codes.append(code_answer)\n",
        "  print(answer)\n",
        "  print(\"\\n\\n\\n-------------------------------------------------------------------------------------\\n\\n\\n\")\n",
        "\n",
        "\n",
        "  for i in range(max_iterations):\n",
        "    erro = input()\n",
        "    if erro == 'passou':\n",
        "      break\n",
        "\n",
        "    error_chain = RunnablePassthrough() | prompt_erro | llm | StrOutputParser()\n",
        "    answer = error_chain.invoke({\"problem\": problema, \"code\": code_answer, \"error\": erro})\n",
        "\n",
        "    all_answers.append(answer)\n",
        "    code_answer = encontrar_ultimo_codigo_python(answer)\n",
        "    all_codes.append(code_answer)\n",
        "    print(answer)\n",
        "    print(\"\\n\\n\\n-------------------------------------------------------------------------------------\\n\\n\\n\")"
      ],
      "metadata": {
        "id": "S-x9ToRUKuE4"
      },
      "execution_count": 28,
      "outputs": []
    },
    {
      "cell_type": "code",
      "source": [
        "def encontrar_ultimo_codigo_python(texto):\n",
        "    padrao = r\"```python(.*?)```\"\n",
        "    matches = re.findall(padrao, texto, re.DOTALL)  # Encontra todos os trechos\n",
        "\n",
        "    if matches:\n",
        "        return matches[-1].strip()  # Retorna o último trecho encontrado\n",
        "    return None  # Retorna None se não encontrar nenhum trecho"
      ],
      "metadata": {
        "id": "SWDXuRSAuQQa"
      },
      "execution_count": 29,
      "outputs": []
    },
    {
      "cell_type": "markdown",
      "source": [
        "#Execução"
      ],
      "metadata": {
        "id": "CM__h9_jfJGf"
      }
    },
    {
      "cell_type": "code",
      "source": [
        "problema = '''\n",
        "You are given an 8 x 8 matrix representing a chessboard. There is exactly one white rook represented by 'R', some number of white bishops 'B', and some number of black pawns 'p'. Empty squares are represented by '.'.\n",
        "\n",
        "A rook can move any number of squares horizontally or vertically (up, down, left, right) until it reaches another piece or the edge of the board. A rook is attacking a pawn if it can move to the pawn's square in one move.\n",
        "\n",
        "Note: A rook cannot move through other pieces, such as bishops or pawns. This means a rook cannot attack a pawn if there is another piece blocking the path.\n",
        "\n",
        "Return the number of pawns the white rook is attacking.\n",
        "\n",
        "\n",
        "\n",
        "Example 1:\n",
        "\n",
        "\n",
        "Input: board = [[\".\",\".\",\".\",\".\",\".\",\".\",\".\",\".\"],[\".\",\".\",\".\",\"p\",\".\",\".\",\".\",\".\"],[\".\",\".\",\".\",\"R\",\".\",\".\",\".\",\"p\"],[\".\",\".\",\".\",\".\",\".\",\".\",\".\",\".\"],[\".\",\".\",\".\",\".\",\".\",\".\",\".\",\".\"],[\".\",\".\",\".\",\"p\",\".\",\".\",\".\",\".\"],[\".\",\".\",\".\",\".\",\".\",\".\",\".\",\".\"],[\".\",\".\",\".\",\".\",\".\",\".\",\".\",\".\"]]\n",
        "\n",
        "Output: 3\n",
        "\n",
        "Explanation:\n",
        "\n",
        "In this example, the rook is attacking all the pawns.\n",
        "\n",
        "Example 2:\n",
        "\n",
        "\n",
        "Input: board = [[\".\",\".\",\".\",\".\",\".\",\".\",\".\"],[\".\",\"p\",\"p\",\"p\",\"p\",\"p\",\".\",\".\"],[\".\",\"p\",\"p\",\"B\",\"p\",\"p\",\".\",\".\"],[\".\",\"p\",\"B\",\"R\",\"B\",\"p\",\".\",\".\"],[\".\",\"p\",\"p\",\"B\",\"p\",\"p\",\".\",\".\"],[\".\",\"p\",\"p\",\"p\",\"p\",\"p\",\".\",\".\"],[\".\",\".\",\".\",\".\",\".\",\".\",\".\",\".\"],[\".\",\".\",\".\",\".\",\".\",\".\",\".\",\".\"]]\n",
        "\n",
        "Output: 0\n",
        "\n",
        "Explanation:\n",
        "\n",
        "The bishops are blocking the rook from attacking any of the pawns.\n",
        "\n",
        "Example 3:\n",
        "\n",
        "\n",
        "Input: board = [[\".\",\".\",\".\",\".\",\".\",\".\",\".\",\".\"],[\".\",\".\",\".\",\"p\",\".\",\".\",\".\",\".\"],[\".\",\".\",\".\",\"p\",\".\",\".\",\".\",\".\"],[\"p\",\"p\",\".\",\"R\",\".\",\"p\",\"B\",\".\"],[\".\",\".\",\".\",\".\",\".\",\".\",\".\",\".\"],[\".\",\".\",\".\",\"B\",\".\",\".\",\".\",\".\"],[\".\",\".\",\".\",\"p\",\".\",\".\",\".\",\".\"],[\".\",\".\",\".\",\".\",\".\",\".\",\".\",\".\"]]\n",
        "\n",
        "Output: 3\n",
        "\n",
        "Explanation:\n",
        "\n",
        "The rook is attacking the pawns at positions b5, d6, and f5.\n",
        "'''"
      ],
      "metadata": {
        "id": "Se4h_7NCguaP"
      },
      "execution_count": 56,
      "outputs": []
    },
    {
      "cell_type": "code",
      "source": [
        "get_code(problema, 3)"
      ],
      "metadata": {
        "colab": {
          "base_uri": "https://localhost:8080/"
        },
        "id": "VDuzE8PJyeBQ",
        "outputId": "07c6fd9c-eb82-4cbd-d3f3-a39e07ecbf57",
        "collapsed": true
      },
      "execution_count": 57,
      "outputs": [
        {
          "name": "stdout",
          "output_type": "stream",
          "text": [
            "```python\n",
            "class Solution(object):\n",
            "    def countAttackingPawns(self, board):\n",
            "        \"\"\"\n",
            "        :type board: List[List[str]]\n",
            "        :rtype: int\n",
            "        \"\"\"\n",
            "\n",
            "        rows = len(board)\n",
            "        cols = len(board[0]) if rows > 0 else 0\n",
            "\n",
            "        # Find the rook's position\n",
            "        rook_row, rook_col = -1, -1\n",
            "        for r in range(rows):\n",
            "            for c in range(cols):\n",
            "                if board[r][c] == 'R':\n",
            "                    rook_row, rook_col = r, c\n",
            "                    break\n",
            "            if rook_row != -1:\n",
            "                break\n",
            "\n",
            "        if rook_row == -1:  # Handle case where no rook is found.\n",
            "            return 0\n",
            "\n",
            "        count = 0\n",
            "        # Check horizontally\n",
            "        for c in range(rook_col + 1, cols):\n",
            "            if board[rook_row][c] == 'p':\n",
            "                count += 1\n",
            "                break\n",
            "            elif board[rook_row][c] != '.':\n",
            "                break\n",
            "        for c in range(rook_col - 1, -1, -1):\n",
            "            if board[rook_row][c] == 'p':\n",
            "                count += 1\n",
            "                break\n",
            "            elif board[rook_row][c] != '.':\n",
            "                break\n",
            "\n",
            "        # Check vertically\n",
            "        for r in range(rook_row + 1, rows):\n",
            "            if board[r][rook_col] == 'p':\n",
            "                count += 1\n",
            "                break\n",
            "            elif board[r][rook_col] != '.':\n",
            "                break\n",
            "        for r in range(rook_row - 1, -1, -1):\n",
            "            if board[r][rook_col] == 'p':\n",
            "                count += 1\n",
            "                break\n",
            "            elif board[r][rook_col] != '.':\n",
            "                break\n",
            "\n",
            "        return count\n",
            "\n",
            "```\n",
            "\n",
            "\n",
            "\n",
            "-------------------------------------------------------------------------------------\n",
            "\n",
            "\n",
            "\n",
            "passou\n"
          ]
        }
      ]
    },
    {
      "cell_type": "markdown",
      "source": [
        "# Resultados - Visualização Gráfica"
      ],
      "metadata": {
        "id": "MumVtKgfPpdv"
      }
    },
    {
      "cell_type": "code",
      "source": [
        "df = pd.read_excel(\"/content/drive/MyDrive/DeepSeekAPI/TAES - planilha.xlsx\")"
      ],
      "metadata": {
        "id": "DM1MEv42REMw"
      },
      "execution_count": 90,
      "outputs": []
    },
    {
      "cell_type": "code",
      "source": [
        "df['Status'] = df['Iteração'].apply(lambda x: 'Passou' if x not in [\"WA\", \"TLE\"] else 'Não passou')\n",
        "\n",
        "contagem = df.groupby(['Dificuldade', 'Status']).size().unstack(fill_value=0)\n",
        "\n",
        "dificuldade_order = ['Fácil', 'Médio', 'Difícil']\n",
        "contagem = contagem.loc[dificuldade_order]\n",
        "\n",
        "ax = contagem.plot(kind='bar', stacked=True, figsize=(10, 6),\n",
        "                   color=['#1f77b4', '#ff7f0e'],\n",
        "                   edgecolor='black')\n",
        "\n",
        "plt.title('Proporção de Questões Passadas vs. Não Passadas por Dificuldade')\n",
        "plt.xlabel('Dificuldade')\n",
        "plt.ylabel('Quantidade de Questões')\n",
        "plt.xticks(rotation=0)\n",
        "plt.legend(title='Status')\n",
        "\n",
        "\n",
        "total_por_dificuldade = contagem.sum(axis=1)\n",
        "for i, dificuldade in enumerate(contagem.index):\n",
        "    passou = contagem.loc[dificuldade, 'Passou']\n",
        "    nao_passou = contagem.loc[dificuldade, 'Não passou']\n",
        "    total = total_por_dificuldade[dificuldade]\n",
        "\n",
        "\n",
        "    if nao_passou > 0:\n",
        "        plt.text(i, nao_passou/2, f\"{nao_passou/total*100:.1f}%\",\n",
        "                 ha='center', va='center', color='white', fontweight='bold')\n",
        "\n",
        "\n",
        "    if passou > 0:\n",
        "        plt.text(i, nao_passou + passou/2, f\"{passou/total*100:.1f}%\",\n",
        "                 ha='center', va='center', fontweight='bold')\n",
        "\n",
        "plt.tight_layout()\n",
        "plt.show()"
      ],
      "metadata": {
        "colab": {
          "base_uri": "https://localhost:8080/",
          "height": 607
        },
        "id": "o7-i60-oPpLl",
        "outputId": "f7dcc498-2cf5-432f-9391-880ec4ac00d4"
      },
      "execution_count": 91,
      "outputs": [
        {
          "output_type": "display_data",
          "data": {
            "text/plain": [
              "<Figure size 1000x600 with 1 Axes>"
            ],
            "image/png": "[encoded data removed]"
          },
          "metadata": {}
        }
      ]
    },
    {
      "cell_type": "code",
      "source": [
        "df['Iteração'] = df['Iteração'].astype(str)\n",
        "\n",
        "df['Dificuldade'] = pd.Categorical(df['Dificuldade'],\n",
        "                                 categories=['Fácil', 'Médio', 'Difícil'],\n",
        "                                 ordered=True)\n",
        "result = df.groupby(['Dificuldade', 'Iteração']).size().unstack(fill_value=0)\n",
        "\n",
        "ax = result.plot(kind='bar', figsize=(12, 6), width=0.8,\n",
        "                 edgecolor='black', colormap='viridis')\n",
        "\n",
        "plt.title('Número de Questões por Iteração e Dificuldade (Ordem Alfabética)')\n",
        "plt.xlabel('Dificuldade')\n",
        "plt.ylabel('Quantidade de Questões')\n",
        "plt.xticks(rotation=0)\n",
        "\n",
        "for container in ax.containers:\n",
        "    ax.bar_label(container, label_type='edge', padding=2)\n",
        "\n",
        "plt.legend(title='Iterações/Erro', bbox_to_anchor=(1.05, 1), loc='upper left')\n",
        "plt.tight_layout()\n",
        "plt.show()"
      ],
      "metadata": {
        "colab": {
          "base_uri": "https://localhost:8080/",
          "height": 664
        },
        "id": "16AgeniwQLiC",
        "outputId": "bd106704-7944-4090-d560-b19d41ae2477"
      },
      "execution_count": 99,
      "outputs": [
        {
          "output_type": "stream",
          "name": "stderr",
          "text": [
            "<ipython-input-99-f7f30cbea449>:6: FutureWarning: The default of observed=False is deprecated and will be changed to True in a future version of pandas. Pass observed=False to retain current behavior or observed=True to adopt the future default and silence this warning.\n",
            "  result = df.groupby(['Dificuldade', 'Iteração']).size().unstack(fill_value=0)\n"
          ]
        },
        {
          "output_type": "display_data",
          "data": {
            "text/plain": [
              "<Figure size 1200x600 with 1 Axes>"
            ],
            "image/png": "[encoded data removed]"
          },
          "metadata": {}
        }
      ]
    }
  ]
}